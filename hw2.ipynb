{
 "cells": [
  {
   "cell_type": "markdown",
   "metadata": {},
   "source": [
    "# hw2"
   ]
  },
  {
   "cell_type": "code",
   "execution_count": 90,
   "metadata": {},
   "outputs": [],
   "source": [
    "import numpy as np\n",
    "import pandas as pd\n",
    "import csv"
   ]
  },
  {
   "cell_type": "markdown",
   "metadata": {},
   "source": [
    "## Discriminative Model"
   ]
  },
  {
   "cell_type": "code",
   "execution_count": 162,
   "metadata": {},
   "outputs": [],
   "source": [
    "x=np.genfromtxt(\"X_train\",delimiter=',',skip_header=1)\n",
    "y=np.genfromtxt(\"Y_train\",delimiter=',',skip_header=1)"
   ]
  },
  {
   "cell_type": "code",
   "execution_count": 92,
   "metadata": {},
   "outputs": [],
   "source": [
    "mean=np.mean(x,axis=0)\n",
    "std=np.std(x,axis=0)\n",
    "\n",
    "boundry=[0,1,3,4,5]\n",
    "\n",
    "for i in boundry:\n",
    "    x[:,i]=(x[:,i]-mean[i])/std[i]"
   ]
  },
  {
   "cell_type": "code",
   "execution_count": 163,
   "metadata": {},
   "outputs": [],
   "source": [
    "Min=np.min(x,axis=0)\n",
    "Max=np.max(x,axis=0)\n",
    "\n",
    "boundry=[0,1,3,4,5]\n",
    "\n",
    "for i in boundry:\n",
    "    x[:,i]=(x[:,i]-Min[i])/(Max[i]-Min[i])"
   ]
  },
  {
   "cell_type": "code",
   "execution_count": 164,
   "metadata": {},
   "outputs": [],
   "source": [
    "def cross_entropy(y_pred,y_label):\n",
    "    return -np.dot(y_label, np.log(y_pred))-np.dot((1-y_label), np.log(1-y_pred))\n",
    "\n",
    "def sigmod(z):\n",
    "    return np.clip(1/(1+np.exp(-z)),1e-6,1-1e-6)"
   ]
  },
  {
   "cell_type": "code",
   "execution_count": 165,
   "metadata": {},
   "outputs": [],
   "source": [
    "def shuffle(x,y,size):\n",
    "    batch=int(round(x.shape[0]*size))\n",
    "    randomize=np.arange(batch)\n",
    "    np.random.shuffle(randomize)\n",
    "    return x[randomize],y[randomize]\n",
    "\n",
    "def train(x,y,size):\n",
    "    x=np.concatenate((np.ones((x.shape[0],1)),x),axis=1).astype(float)\n",
    "    \n",
    "    max_iteration=20000\n",
    "    batch_size=64\n",
    "    learning_rate=0.2\n",
    "    lamda=0.001\n",
    "    \n",
    "    dim=x.shape[1]\n",
    "    w=np.zeros((dim,))\n",
    "    adagrad=np.zeros((dim,))\n",
    "        \n",
    "    step=0\n",
    "    \n",
    "    for epoch in range(max_iteration):\n",
    "        if epoch%100==0:\n",
    "            y_pred=sigmod(x@w)\n",
    "            Y_pred=np.round(y_pred)\n",
    "            print(\"Case:#\",epoch)\n",
    "            print(\"Accuracy:\",np.sum(Y_pred==y)/len(y))\n",
    "            print(\"Loss:\",(cross_entropy(y_pred,y)+lamda*np.sum(np.square(w)))/len(y))\n",
    "        \n",
    "        x_train,y_train=shuffle(x,y,size)\n",
    "        \n",
    "        for idx in range(int(np.floor(x_train.shape[0]/batch_size))):\n",
    "            X=x_train[idx*batch_size:(idx+1)*batch_size]\n",
    "            Y=y_train[idx*batch_size:(idx+1)*batch_size]\n",
    "            \n",
    "            y_pred=sigmod(X@w)\n",
    "            \n",
    "            gradient=-np.mean(np.multiply((Y-y_pred).T,X.T),1)+lamda*w\n",
    "#             adagrad+=gradient**2\n",
    "            step+=1\n",
    "#             w-=learning_rate/np.sqrt(adagrad+0.0001)*gradient\n",
    "            w-=learning_rate/np.sqrt(step)*gradient\n",
    "    \n",
    "    return w"
   ]
  },
  {
   "cell_type": "code",
   "execution_count": 166,
   "metadata": {},
   "outputs": [
    {
     "name": "stdout",
     "output_type": "stream",
     "text": [
      "Case:# 0\n",
      "Accuracy: 0.7591904425539756\n",
      "Loss: 0.6931471805599463\n",
      "Case:# 100\n",
      "Accuracy: 0.8272473204139922\n",
      "Loss: 0.37898684573161834\n",
      "Case:# 200\n",
      "Accuracy: 0.829489266300175\n",
      "Loss: 0.3727675232097831\n",
      "Case:# 300\n",
      "Accuracy: 0.8306870182119713\n",
      "Loss: 0.36941460667869397\n",
      "Case:# 400\n",
      "Accuracy: 0.8317619237738398\n",
      "Loss: 0.3671526567241605\n",
      "Case:# 500\n",
      "Accuracy: 0.8322225975860692\n",
      "Loss: 0.36546376942750175\n",
      "Case:# 600\n",
      "Accuracy: 0.8326525598108167\n",
      "Loss: 0.364126045645152\n",
      "Case:# 700\n",
      "Accuracy: 0.8332667915604558\n",
      "Loss: 0.3630245082696941\n"
     ]
    },
    {
     "ename": "KeyboardInterrupt",
     "evalue": "",
     "output_type": "error",
     "traceback": [
      "\u001b[1;31m---------------------------------------------------------------------------\u001b[0m",
      "\u001b[1;31mKeyboardInterrupt\u001b[0m                         Traceback (most recent call last)",
      "\u001b[1;32m<ipython-input-166-5c2bfc17453b>\u001b[0m in \u001b[0;36m<module>\u001b[1;34m\u001b[0m\n\u001b[1;32m----> 1\u001b[1;33m \u001b[0mw\u001b[0m\u001b[1;33m=\u001b[0m\u001b[0mtrain\u001b[0m\u001b[1;33m(\u001b[0m\u001b[0mx\u001b[0m\u001b[1;33m,\u001b[0m\u001b[0my\u001b[0m\u001b[1;33m,\u001b[0m\u001b[1;36m0.85\u001b[0m\u001b[1;33m)\u001b[0m\u001b[1;33m\u001b[0m\u001b[1;33m\u001b[0m\u001b[0m\n\u001b[0m",
      "\u001b[1;32m<ipython-input-165-58fa200dfa49>\u001b[0m in \u001b[0;36mtrain\u001b[1;34m(x, y, size)\u001b[0m\n\u001b[0;32m     35\u001b[0m             \u001b[0my_pred\u001b[0m\u001b[1;33m=\u001b[0m\u001b[0msigmod\u001b[0m\u001b[1;33m(\u001b[0m\u001b[0mX\u001b[0m\u001b[1;33m@\u001b[0m\u001b[0mw\u001b[0m\u001b[1;33m)\u001b[0m\u001b[1;33m\u001b[0m\u001b[1;33m\u001b[0m\u001b[0m\n\u001b[0;32m     36\u001b[0m \u001b[1;33m\u001b[0m\u001b[0m\n\u001b[1;32m---> 37\u001b[1;33m             \u001b[0mgradient\u001b[0m\u001b[1;33m=\u001b[0m\u001b[1;33m-\u001b[0m\u001b[0mnp\u001b[0m\u001b[1;33m.\u001b[0m\u001b[0mmean\u001b[0m\u001b[1;33m(\u001b[0m\u001b[0mnp\u001b[0m\u001b[1;33m.\u001b[0m\u001b[0mmultiply\u001b[0m\u001b[1;33m(\u001b[0m\u001b[1;33m(\u001b[0m\u001b[0mY\u001b[0m\u001b[1;33m-\u001b[0m\u001b[0my_pred\u001b[0m\u001b[1;33m)\u001b[0m\u001b[1;33m.\u001b[0m\u001b[0mT\u001b[0m\u001b[1;33m,\u001b[0m\u001b[0mX\u001b[0m\u001b[1;33m.\u001b[0m\u001b[0mT\u001b[0m\u001b[1;33m)\u001b[0m\u001b[1;33m,\u001b[0m\u001b[1;36m1\u001b[0m\u001b[1;33m)\u001b[0m\u001b[1;33m+\u001b[0m\u001b[0mlamda\u001b[0m\u001b[1;33m*\u001b[0m\u001b[0mw\u001b[0m\u001b[1;33m\u001b[0m\u001b[1;33m\u001b[0m\u001b[0m\n\u001b[0m\u001b[0;32m     38\u001b[0m \u001b[1;31m#             adagrad+=gradient**2\u001b[0m\u001b[1;33m\u001b[0m\u001b[1;33m\u001b[0m\u001b[1;33m\u001b[0m\u001b[0m\n\u001b[0;32m     39\u001b[0m             \u001b[0mstep\u001b[0m\u001b[1;33m+=\u001b[0m\u001b[1;36m1\u001b[0m\u001b[1;33m\u001b[0m\u001b[1;33m\u001b[0m\u001b[0m\n",
      "\u001b[1;31mKeyboardInterrupt\u001b[0m: "
     ]
    }
   ],
   "source": [
    "w=train(x,y,0.85)"
   ]
  },
  {
   "cell_type": "code",
   "execution_count": 158,
   "metadata": {},
   "outputs": [],
   "source": [
    "x_test=np.genfromtxt(\"X_test\", delimiter=',', skip_header=1)\n",
    "mean=np.mean(x_test,axis=0)\n",
    "std=np.std(x_test,axis=0)\n",
    "\n",
    "boundry=[0,1,3,4,5]\n",
    "\n",
    "for i in boundry:\n",
    "    x_test[:,i]=(x_test[:,i]-mean[i])/std[i]"
   ]
  },
  {
   "cell_type": "code",
   "execution_count": 161,
   "metadata": {},
   "outputs": [],
   "source": [
    "x_test=np.concatenate((np.ones((x_test.shape[0],1)),x_test),axis=1).astype(float)\n",
    "result=np.round(sigmod(x_test@w))\n",
    "with open(\"ans.csv\", 'w') as f:\n",
    "        f.write('id,label\\n')\n",
    "        for i, v in  enumerate(result):\n",
    "            f.write('%d,%d\\n' %(i+1, v))"
   ]
  },
  {
   "cell_type": "markdown",
   "metadata": {},
   "source": [
    "## Generative Model"
   ]
  },
  {
   "cell_type": "code",
   "execution_count": 168,
   "metadata": {},
   "outputs": [],
   "source": [
    "import numpy as np\n",
    "import sys\n",
    "import csv  \n",
    "from numpy.linalg import inv"
   ]
  },
  {
   "cell_type": "code",
   "execution_count": 169,
   "metadata": {},
   "outputs": [],
   "source": [
    "class data_manager():\n",
    "    def __init__(self):\n",
    "        self.data = {}  \n",
    "    \n",
    "    def read(self,name,path):\n",
    "        with open(path,newline = '') as csvfile:\n",
    "            rows = np.array(list(csv.reader(csvfile))[1:] ,dtype = float)  \n",
    "            if name == 'X_train':\n",
    "                self.mean = np.mean(rows,axis = 0).reshape(1,-1)\n",
    "                self.std = np.std(rows,axis = 0).reshape(1,-1)\n",
    "                self.theta = np.ones((rows.shape[1] + 1,1),dtype = float) \n",
    "                for i in range(rows.shape[0]):\n",
    "                    rows[i,:] = (rows[i,:] - self.mean) / self.std  \n",
    "\n",
    "            elif name == 'X_test': \n",
    "                for i in range(rows.shape[0]):\n",
    "                    rows[i,:] = (rows[i,:] - self.mean) / self.std \n",
    "\n",
    "            self.data[name] = rows  \n",
    "\n",
    "    def find_theta(self):\n",
    "        class_0_id = []\n",
    "        class_1_id = []\n",
    "        for i in range(self.data['Y_train'].shape[0]):\n",
    "            if self.data['Y_train'][i][0] == 0:\n",
    "                class_0_id.append(i)\n",
    "            else:\n",
    "                class_1_id.append(i)\n",
    "\n",
    "        class_0 = self.data['X_train'][class_0_id]\n",
    "        class_1 = self.data['X_train'][class_1_id] \n",
    "\n",
    "        mean_0 = np.mean(class_0,axis = 0)\n",
    "        mean_1 = np.mean(class_1,axis = 0)  \n",
    "\n",
    "        n = class_0.shape[1]\n",
    "        cov_0 = np.zeros((n,n))\n",
    "        cov_1 = np.zeros((n,n))\n",
    "        \n",
    "        for i in range(class_0.shape[0]):\n",
    "            cov_0 += np.dot(np.transpose([class_0[i] - mean_0]), [(class_0[i] - mean_0)]) / class_0.shape[0]\n",
    "\n",
    "        for i in range(class_1.shape[0]):\n",
    "            cov_1 += np.dot(np.transpose([class_1[i] - mean_1]), [(class_1[i] - mean_1)]) / class_1.shape[0]\n",
    "\n",
    "        cov = (cov_0*class_0.shape[0] + cov_1*class_1.shape[0]) / (class_0.shape[0] + class_1.shape[0])\n",
    " \n",
    "        self.w = np.transpose(((mean_0 - mean_1)).dot(inv(cov)) )\n",
    "        self.b =  (- 0.5)* (mean_0).dot(inv(cov)).dot(mean_0)\\\n",
    "            + 0.5 * (mean_1).dot(inv(cov)).dot(mean_1)\\\n",
    "            + np.log(float(class_0.shape[0]) / class_1.shape[0]) \n",
    "\n",
    "        result = self.func(self.data['X_train'])\n",
    "        answer = self.predict(result)\n",
    "\n",
    "\n",
    "    def func(self,x):\n",
    "        arr = np.empty([x.shape[0],1],dtype=float)\n",
    "        for i in range(x.shape[0]):\n",
    "            z = x[i,:].dot(self.w) + self.b\n",
    "            z *= (-1)\n",
    "            arr[i][0] = 1 / (1 + np.exp(z))\n",
    "        return np.clip(arr, 1e-8, 1-(1e-8))\n",
    "\n",
    "    def predict(self,x):\n",
    "        ans = np.ones([x.shape[0],1],dtype=int)\n",
    "        for i in range(x.shape[0]):\n",
    "            if x[i] > 0.5:\n",
    "                ans[i] = 0; \n",
    "        return ans\n",
    "\n",
    "    def write_file(self,path):\n",
    "        result = self.func(self.data['X_test'])\n",
    "        answer = self.predict(result)\n",
    "        with open(path, 'w', newline='') as csvfile:\n",
    "            writer = csv.writer(csvfile) \n",
    "            writer.writerow(['id','label']) \n",
    "            for i in range(answer.shape[0]):\n",
    "                writer.writerow([i+1,answer[i][0]])"
   ]
  },
  {
   "cell_type": "code",
   "execution_count": 170,
   "metadata": {},
   "outputs": [],
   "source": [
    "dm = data_manager()\n",
    "dm.read('X_train','X_train')\n",
    "dm.read('Y_train','Y_train')\n",
    "dm.read('X_test','X_test')\n",
    "dm.find_theta()\n",
    "dm.write_file('output.csv')"
   ]
  },
  {
   "cell_type": "code",
   "execution_count": null,
   "metadata": {},
   "outputs": [],
   "source": []
  }
 ],
 "metadata": {
  "kernelspec": {
   "display_name": "Python 3",
   "language": "python",
   "name": "python3"
  },
  "language_info": {
   "codemirror_mode": {
    "name": "ipython",
    "version": 3
   },
   "file_extension": ".py",
   "mimetype": "text/x-python",
   "name": "python",
   "nbconvert_exporter": "python",
   "pygments_lexer": "ipython3",
   "version": "3.7.3"
  },
  "toc": {
   "base_numbering": 1,
   "nav_menu": {},
   "number_sections": true,
   "sideBar": true,
   "skip_h1_title": true,
   "title_cell": "Table of Contents",
   "title_sidebar": "Contents",
   "toc_cell": false,
   "toc_position": {},
   "toc_section_display": true,
   "toc_window_display": false
  },
  "varInspector": {
   "cols": {
    "lenName": 16,
    "lenType": 16,
    "lenVar": 40
   },
   "kernels_config": {
    "python": {
     "delete_cmd_postfix": "",
     "delete_cmd_prefix": "del ",
     "library": "var_list.py",
     "varRefreshCmd": "print(var_dic_list())"
    },
    "r": {
     "delete_cmd_postfix": ") ",
     "delete_cmd_prefix": "rm(",
     "library": "var_list.r",
     "varRefreshCmd": "cat(var_dic_list()) "
    }
   },
   "types_to_exclude": [
    "module",
    "function",
    "builtin_function_or_method",
    "instance",
    "_Feature"
   ],
   "window_display": false
  }
 },
 "nbformat": 4,
 "nbformat_minor": 2
}
